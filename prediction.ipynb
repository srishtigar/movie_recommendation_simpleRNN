{
 "cells": [
  {
   "cell_type": "code",
   "execution_count": 1,
   "metadata": {},
   "outputs": [],
   "source": [
    "# Step 1: Import Libraries and Load the Model\n",
    "import numpy as np\n",
    "import tensorflow as tf\n",
    "from tensorflow.keras.datasets import imdb\n",
    "from tensorflow.keras.preprocessing import sequence\n",
    "from tensorflow.keras.models import load_model"
   ]
  },
  {
   "cell_type": "code",
   "execution_count": 2,
   "metadata": {},
   "outputs": [],
   "source": [
    "\n",
    "# Load the IMDB dataset word index\n",
    "word_index = imdb.get_word_index()\n",
    "reverse_word_index = {value: key for key, value in word_index.items()}"
   ]
  },
  {
   "cell_type": "code",
   "execution_count": 3,
   "metadata": {},
   "outputs": [
    {
     "name": "stderr",
     "output_type": "stream",
     "text": [
      "WARNING:absl:Compiled the loaded model, but the compiled metrics have yet to be built. `model.compile_metrics` will be empty until you train or evaluate the model.\n"
     ]
    },
    {
     "data": {
      "text/html": [
       "<pre style=\"white-space:pre;overflow-x:auto;line-height:normal;font-family:Menlo,'DejaVu Sans Mono',consolas,'Courier New',monospace\"><span style=\"font-weight: bold\">Model: \"sequential\"</span>\n",
       "</pre>\n"
      ],
      "text/plain": [
       "\u001b[1mModel: \"sequential\"\u001b[0m\n"
      ]
     },
     "metadata": {},
     "output_type": "display_data"
    },
    {
     "data": {
      "text/html": [
       "<pre style=\"white-space:pre;overflow-x:auto;line-height:normal;font-family:Menlo,'DejaVu Sans Mono',consolas,'Courier New',monospace\">┏━━━━━━━━━━━━━━━━━━━━━━━━━━━━━━━━━┳━━━━━━━━━━━━━━━━━━━━━━━━┳━━━━━━━━━━━━━━━┓\n",
       "┃<span style=\"font-weight: bold\"> Layer (type)                    </span>┃<span style=\"font-weight: bold\"> Output Shape           </span>┃<span style=\"font-weight: bold\">       Param # </span>┃\n",
       "┡━━━━━━━━━━━━━━━━━━━━━━━━━━━━━━━━━╇━━━━━━━━━━━━━━━━━━━━━━━━╇━━━━━━━━━━━━━━━┩\n",
       "│ embedding (<span style=\"color: #0087ff; text-decoration-color: #0087ff\">Embedding</span>)           │ (<span style=\"color: #00af00; text-decoration-color: #00af00\">32</span>, <span style=\"color: #00af00; text-decoration-color: #00af00\">500</span>, <span style=\"color: #00af00; text-decoration-color: #00af00\">128</span>)         │     <span style=\"color: #00af00; text-decoration-color: #00af00\">1,280,000</span> │\n",
       "├─────────────────────────────────┼────────────────────────┼───────────────┤\n",
       "│ simple_rnn (<span style=\"color: #0087ff; text-decoration-color: #0087ff\">SimpleRNN</span>)          │ (<span style=\"color: #00af00; text-decoration-color: #00af00\">32</span>, <span style=\"color: #00af00; text-decoration-color: #00af00\">128</span>)              │        <span style=\"color: #00af00; text-decoration-color: #00af00\">32,896</span> │\n",
       "├─────────────────────────────────┼────────────────────────┼───────────────┤\n",
       "│ dense (<span style=\"color: #0087ff; text-decoration-color: #0087ff\">Dense</span>)                   │ (<span style=\"color: #00af00; text-decoration-color: #00af00\">32</span>, <span style=\"color: #00af00; text-decoration-color: #00af00\">1</span>)                │           <span style=\"color: #00af00; text-decoration-color: #00af00\">129</span> │\n",
       "└─────────────────────────────────┴────────────────────────┴───────────────┘\n",
       "</pre>\n"
      ],
      "text/plain": [
       "┏━━━━━━━━━━━━━━━━━━━━━━━━━━━━━━━━━┳━━━━━━━━━━━━━━━━━━━━━━━━┳━━━━━━━━━━━━━━━┓\n",
       "┃\u001b[1m \u001b[0m\u001b[1mLayer (type)                   \u001b[0m\u001b[1m \u001b[0m┃\u001b[1m \u001b[0m\u001b[1mOutput Shape          \u001b[0m\u001b[1m \u001b[0m┃\u001b[1m \u001b[0m\u001b[1m      Param #\u001b[0m\u001b[1m \u001b[0m┃\n",
       "┡━━━━━━━━━━━━━━━━━━━━━━━━━━━━━━━━━╇━━━━━━━━━━━━━━━━━━━━━━━━╇━━━━━━━━━━━━━━━┩\n",
       "│ embedding (\u001b[38;5;33mEmbedding\u001b[0m)           │ (\u001b[38;5;34m32\u001b[0m, \u001b[38;5;34m500\u001b[0m, \u001b[38;5;34m128\u001b[0m)         │     \u001b[38;5;34m1,280,000\u001b[0m │\n",
       "├─────────────────────────────────┼────────────────────────┼───────────────┤\n",
       "│ simple_rnn (\u001b[38;5;33mSimpleRNN\u001b[0m)          │ (\u001b[38;5;34m32\u001b[0m, \u001b[38;5;34m128\u001b[0m)              │        \u001b[38;5;34m32,896\u001b[0m │\n",
       "├─────────────────────────────────┼────────────────────────┼───────────────┤\n",
       "│ dense (\u001b[38;5;33mDense\u001b[0m)                   │ (\u001b[38;5;34m32\u001b[0m, \u001b[38;5;34m1\u001b[0m)                │           \u001b[38;5;34m129\u001b[0m │\n",
       "└─────────────────────────────────┴────────────────────────┴───────────────┘\n"
      ]
     },
     "metadata": {},
     "output_type": "display_data"
    },
    {
     "data": {
      "text/html": [
       "<pre style=\"white-space:pre;overflow-x:auto;line-height:normal;font-family:Menlo,'DejaVu Sans Mono',consolas,'Courier New',monospace\"><span style=\"font-weight: bold\"> Total params: </span><span style=\"color: #00af00; text-decoration-color: #00af00\">1,313,027</span> (5.01 MB)\n",
       "</pre>\n"
      ],
      "text/plain": [
       "\u001b[1m Total params: \u001b[0m\u001b[38;5;34m1,313,027\u001b[0m (5.01 MB)\n"
      ]
     },
     "metadata": {},
     "output_type": "display_data"
    },
    {
     "data": {
      "text/html": [
       "<pre style=\"white-space:pre;overflow-x:auto;line-height:normal;font-family:Menlo,'DejaVu Sans Mono',consolas,'Courier New',monospace\"><span style=\"font-weight: bold\"> Trainable params: </span><span style=\"color: #00af00; text-decoration-color: #00af00\">1,313,025</span> (5.01 MB)\n",
       "</pre>\n"
      ],
      "text/plain": [
       "\u001b[1m Trainable params: \u001b[0m\u001b[38;5;34m1,313,025\u001b[0m (5.01 MB)\n"
      ]
     },
     "metadata": {},
     "output_type": "display_data"
    },
    {
     "data": {
      "text/html": [
       "<pre style=\"white-space:pre;overflow-x:auto;line-height:normal;font-family:Menlo,'DejaVu Sans Mono',consolas,'Courier New',monospace\"><span style=\"font-weight: bold\"> Non-trainable params: </span><span style=\"color: #00af00; text-decoration-color: #00af00\">0</span> (0.00 B)\n",
       "</pre>\n"
      ],
      "text/plain": [
       "\u001b[1m Non-trainable params: \u001b[0m\u001b[38;5;34m0\u001b[0m (0.00 B)\n"
      ]
     },
     "metadata": {},
     "output_type": "display_data"
    },
    {
     "data": {
      "text/html": [
       "<pre style=\"white-space:pre;overflow-x:auto;line-height:normal;font-family:Menlo,'DejaVu Sans Mono',consolas,'Courier New',monospace\"><span style=\"font-weight: bold\"> Optimizer params: </span><span style=\"color: #00af00; text-decoration-color: #00af00\">2</span> (12.00 B)\n",
       "</pre>\n"
      ],
      "text/plain": [
       "\u001b[1m Optimizer params: \u001b[0m\u001b[38;5;34m2\u001b[0m (12.00 B)\n"
      ]
     },
     "metadata": {},
     "output_type": "display_data"
    }
   ],
   "source": [
    "# Load the pre-trained model with ReLU activation\n",
    "model = load_model('simple_rnn_imdb.h5')\n",
    "model.summary()"
   ]
  },
  {
   "cell_type": "code",
   "execution_count": 4,
   "metadata": {},
   "outputs": [
    {
     "data": {
      "text/plain": [
       "[array([[-1.3991549 , -0.57441384,  1.400777  , ...,  0.5909841 ,\n",
       "         -1.4056563 ,  1.5327139 ],\n",
       "        [-0.11687309,  0.04874977,  0.02375165, ...,  0.01609126,\n",
       "         -0.22344252,  0.12664878],\n",
       "        [-0.10278685,  0.04283448,  0.06798921, ..., -0.03125524,\n",
       "          0.07103619,  0.08223774],\n",
       "        ...,\n",
       "        [ 0.03471337, -0.00176175,  0.05274268, ...,  0.0573176 ,\n",
       "          0.00951978, -0.09471915],\n",
       "        [-0.04955082,  0.02543963,  0.04380489, ...,  0.00684502,\n",
       "         -0.00821128, -0.00546495],\n",
       "        [ 0.07162113, -0.04896633,  0.03421937, ...,  0.0726964 ,\n",
       "         -0.0260908 , -0.07555415]], dtype=float32),\n",
       " array([[ 0.07603773,  0.10164917,  0.08667104, ..., -0.13810788,\n",
       "         -0.02411098, -0.15616788],\n",
       "        [ 0.08797622,  0.09715351,  0.15576978, ..., -0.10097506,\n",
       "         -0.1462777 , -0.1301353 ],\n",
       "        [-0.0379568 ,  0.16002521,  0.06456089, ...,  0.09119591,\n",
       "          0.1566054 , -0.15428744],\n",
       "        ...,\n",
       "        [ 0.12716317, -0.0475733 ,  0.02972236, ...,  0.0011244 ,\n",
       "          0.08579133, -0.05012222],\n",
       "        [ 0.1247365 ,  0.09149456, -0.00777671, ..., -0.07466438,\n",
       "         -0.01672431,  0.10088223],\n",
       "        [ 0.12286133, -0.03178505, -0.14923824, ..., -0.08322366,\n",
       "         -0.14132623, -0.13999315]], dtype=float32),\n",
       " array([[-0.06296892, -0.01969786,  0.06142635, ..., -0.08901826,\n",
       "          0.03060848, -0.05060343],\n",
       "        [ 0.18409209, -0.08082401, -0.09015008, ..., -0.00524811,\n",
       "         -0.03783496, -0.02912699],\n",
       "        [-0.08838286, -0.08563238, -0.02917197, ...,  0.00303272,\n",
       "         -0.07539973,  0.01709973],\n",
       "        ...,\n",
       "        [-0.00501717, -0.01314963,  0.06102211, ..., -0.02836592,\n",
       "          0.02377582,  0.07030664],\n",
       "        [-0.05802737, -0.00737362,  0.16504084, ..., -0.14270145,\n",
       "          0.05800108, -0.08934841],\n",
       "        [ 0.04309502, -0.02387807, -0.18442558, ...,  0.0621284 ,\n",
       "          0.20624861,  0.00162102]], dtype=float32),\n",
       " array([-0.01499308, -0.04712052,  0.02514219,  0.05896278, -0.0288674 ,\n",
       "         0.00485497, -0.00237057, -0.00151583, -0.02877471, -0.01545971,\n",
       "        -0.0076256 , -0.03791868, -0.00614564, -0.04230282, -0.02929454,\n",
       "         0.00702105,  0.00831472, -0.00924552, -0.01195178,  0.04794196,\n",
       "        -0.0146364 , -0.01349288, -0.01290234, -0.00471431, -0.04104952,\n",
       "        -0.02972806,  0.01592075,  0.01210249,  0.0271044 , -0.01878222,\n",
       "         0.02317026, -0.03038135,  0.0119947 , -0.02382835, -0.03986169,\n",
       "        -0.00661458,  0.00568841,  0.00744105, -0.01131251, -0.01420516,\n",
       "         0.00609204,  0.00309696, -0.02302999,  0.01581706,  0.01599969,\n",
       "        -0.0115826 , -0.03333541, -0.01681732, -0.02644939, -0.02891862,\n",
       "        -0.04065554,  0.0176082 ,  0.01694294, -0.02685571, -0.03792585,\n",
       "        -0.04083586,  0.0116668 , -0.00792437, -0.03941003,  0.03079546,\n",
       "        -0.01040518,  0.00077989, -0.0230103 , -0.01810787, -0.00719772,\n",
       "        -0.01676482, -0.00270528, -0.01236149,  0.00435594,  0.02230717,\n",
       "        -0.040401  ,  0.00046903, -0.02744304,  0.02061916,  0.03081392,\n",
       "        -0.00468239, -0.01435095, -0.03729434,  0.01121755, -0.048874  ,\n",
       "        -0.00400154,  0.02557488, -0.0418198 , -0.0262212 , -0.01631801,\n",
       "        -0.05122267,  0.01476234, -0.01364786, -0.01042347,  0.00617007,\n",
       "         0.03686143,  0.0047363 ,  0.01230852,  0.02978867, -0.01287756,\n",
       "        -0.01608726, -0.04299333,  0.02486254, -0.04775073,  0.03325662,\n",
       "        -0.02178077, -0.02617474, -0.00071712, -0.03218297,  0.02958254,\n",
       "        -0.03457724,  0.03788348, -0.00057265, -0.01001386, -0.03206005,\n",
       "        -0.02401676, -0.02365073, -0.02796844, -0.01801634, -0.02154375,\n",
       "         0.02307756,  0.02730454,  0.03029027, -0.02005715,  0.01539647,\n",
       "         0.02042354,  0.00683211, -0.01320464,  0.02925814, -0.03963529,\n",
       "        -0.0525231 , -0.01201791,  0.02641148], dtype=float32),\n",
       " array([[ 0.01899632],\n",
       "        [ 0.0183619 ],\n",
       "        [-0.03388157],\n",
       "        [ 0.11161631],\n",
       "        [ 0.04819675],\n",
       "        [-0.21964176],\n",
       "        [ 0.08858958],\n",
       "        [ 0.19924416],\n",
       "        [ 0.13042465],\n",
       "        [ 0.0584351 ],\n",
       "        [ 0.088046  ],\n",
       "        [ 0.02060863],\n",
       "        [-0.7478754 ],\n",
       "        [-0.1544672 ],\n",
       "        [ 0.15012369],\n",
       "        [-0.0213583 ],\n",
       "        [-0.08966237],\n",
       "        [ 0.694588  ],\n",
       "        [ 0.45143792],\n",
       "        [-0.17008193],\n",
       "        [ 0.26399982],\n",
       "        [ 0.11057515],\n",
       "        [ 0.02919614],\n",
       "        [ 0.01433718],\n",
       "        [ 0.19296636],\n",
       "        [-0.05586192],\n",
       "        [ 0.05577786],\n",
       "        [-0.17507313],\n",
       "        [-0.04700498],\n",
       "        [-0.13731253],\n",
       "        [ 0.5134718 ],\n",
       "        [ 0.15804362],\n",
       "        [ 0.3436201 ],\n",
       "        [-0.12681533],\n",
       "        [ 0.1906899 ],\n",
       "        [ 0.1438078 ],\n",
       "        [-0.23733509],\n",
       "        [ 0.00802568],\n",
       "        [ 0.26880595],\n",
       "        [ 0.17439236],\n",
       "        [ 0.20137657],\n",
       "        [-0.10570295],\n",
       "        [ 0.21421078],\n",
       "        [-0.20996703],\n",
       "        [-0.11885754],\n",
       "        [ 0.14281112],\n",
       "        [ 0.24233027],\n",
       "        [-0.13326713],\n",
       "        [-0.02874548],\n",
       "        [-0.06883227],\n",
       "        [-0.08688641],\n",
       "        [ 0.12770252],\n",
       "        [-0.04302667],\n",
       "        [ 0.10588381],\n",
       "        [ 0.18114612],\n",
       "        [ 0.11588308],\n",
       "        [-0.06309158],\n",
       "        [ 0.19802345],\n",
       "        [ 0.2122576 ],\n",
       "        [ 0.19939885],\n",
       "        [-0.23148473],\n",
       "        [-0.10446566],\n",
       "        [-0.05332005],\n",
       "        [-0.14557874],\n",
       "        [-0.1125522 ],\n",
       "        [ 0.23569615],\n",
       "        [ 0.11237006],\n",
       "        [ 0.1888248 ],\n",
       "        [-0.16103102],\n",
       "        [ 0.19798984],\n",
       "        [ 0.04686003],\n",
       "        [ 0.11895251],\n",
       "        [-0.06351914],\n",
       "        [ 0.10530625],\n",
       "        [-0.15631983],\n",
       "        [-0.38197014],\n",
       "        [ 0.15486565],\n",
       "        [ 0.05762665],\n",
       "        [ 0.10773486],\n",
       "        [-0.21541518],\n",
       "        [ 0.02235905],\n",
       "        [-0.21445537],\n",
       "        [-0.03126676],\n",
       "        [ 0.21094161],\n",
       "        [ 0.22580853],\n",
       "        [ 0.14350738],\n",
       "        [-0.14592895],\n",
       "        [-0.31212136],\n",
       "        [ 0.19419032],\n",
       "        [-0.05052568],\n",
       "        [-0.21122183],\n",
       "        [-0.07525298],\n",
       "        [ 0.4307831 ],\n",
       "        [-0.21389203],\n",
       "        [-0.17491928],\n",
       "        [ 0.14362341],\n",
       "        [ 0.076746  ],\n",
       "        [-0.19743392],\n",
       "        [ 0.06331839],\n",
       "        [-0.06000403],\n",
       "        [ 0.09604271],\n",
       "        [ 0.18981238],\n",
       "        [ 0.21654873],\n",
       "        [-0.00117673],\n",
       "        [-0.19792731],\n",
       "        [ 0.14055729],\n",
       "        [-0.14516768],\n",
       "        [ 0.7479685 ],\n",
       "        [-0.02323871],\n",
       "        [ 0.0964642 ],\n",
       "        [ 0.1189355 ],\n",
       "        [-0.15206197],\n",
       "        [ 0.07109282],\n",
       "        [-0.01784641],\n",
       "        [ 0.16601007],\n",
       "        [ 0.21409577],\n",
       "        [-0.1453843 ],\n",
       "        [-0.08192971],\n",
       "        [-0.28056455],\n",
       "        [-0.07302903],\n",
       "        [-0.10823823],\n",
       "        [-0.01131815],\n",
       "        [ 0.19724888],\n",
       "        [ 0.28823268],\n",
       "        [ 0.12345446],\n",
       "        [ 0.04208386],\n",
       "        [-0.13356858],\n",
       "        [ 0.15654035]], dtype=float32),\n",
       " array([1.0842835], dtype=float32)]"
      ]
     },
     "execution_count": 4,
     "metadata": {},
     "output_type": "execute_result"
    }
   ],
   "source": [
    "model.get_weights()"
   ]
  },
  {
   "cell_type": "code",
   "execution_count": 5,
   "metadata": {},
   "outputs": [],
   "source": [
    "# Step 2: Helper Functions\n",
    "# Function to decode reviews\n",
    "def decode_review(encoded_review):\n",
    "    return ' '.join([reverse_word_index.get(i - 3, '?') for i in encoded_review])\n",
    "\n",
    "# Function to preprocess user input\n",
    "def preprocess_text(text):\n",
    "    words = text.lower().split()\n",
    "    encoded_review = [word_index.get(word, 2) + 3 for word in words]\n",
    "    padded_review = sequence.pad_sequences([encoded_review], maxlen=500)\n",
    "    return padded_review"
   ]
  },
  {
   "cell_type": "code",
   "execution_count": 6,
   "metadata": {},
   "outputs": [],
   "source": [
    "### Prediction  function\n",
    "\n",
    "def predict_sentiment(review):\n",
    "    preprocessed_input=preprocess_text(review)\n",
    "\n",
    "    prediction=model.predict(preprocessed_input)\n",
    "\n",
    "    sentiment = 'Positive' if prediction[0][0] > 0.5 else 'Negative'\n",
    "    \n",
    "    return sentiment, prediction[0][0]\n",
    "\n"
   ]
  },
  {
   "cell_type": "code",
   "execution_count": 7,
   "metadata": {},
   "outputs": [
    {
     "name": "stdout",
     "output_type": "stream",
     "text": [
      "\u001b[1m1/1\u001b[0m \u001b[32m━━━━━━━━━━━━━━━━━━━━\u001b[0m\u001b[37m\u001b[0m \u001b[1m0s\u001b[0m 206ms/step\n",
      "Review: This movie was fantastic! The acting was great and the plot was thrilling.\n",
      "Sentiment: Positive\n",
      "Prediction Score: 0.5106934905052185\n"
     ]
    }
   ],
   "source": [
    "# Step 4: User Input and Prediction\n",
    "# Example review for prediction\n",
    "example_review = \"This movie was fantastic! The acting was great and the plot was thrilling.\"\n",
    "\n",
    "sentiment,score=predict_sentiment(example_review)\n",
    "\n",
    "print(f'Review: {example_review}')\n",
    "print(f'Sentiment: {sentiment}')\n",
    "print(f'Prediction Score: {score}')"
   ]
  },
  {
   "cell_type": "code",
   "execution_count": null,
   "metadata": {},
   "outputs": [],
   "source": []
  },
  {
   "cell_type": "code",
   "execution_count": null,
   "metadata": {},
   "outputs": [],
   "source": []
  },
  {
   "cell_type": "code",
   "execution_count": null,
   "metadata": {},
   "outputs": [],
   "source": []
  },
  {
   "cell_type": "code",
   "execution_count": null,
   "metadata": {},
   "outputs": [],
   "source": []
  }
 ],
 "metadata": {
  "kernelspec": {
   "display_name": "imdb_env",
   "language": "python",
   "name": "python3"
  },
  "language_info": {
   "codemirror_mode": {
    "name": "ipython",
    "version": 3
   },
   "file_extension": ".py",
   "mimetype": "text/x-python",
   "name": "python",
   "nbconvert_exporter": "python",
   "pygments_lexer": "ipython3",
   "version": "3.10.18"
  }
 },
 "nbformat": 4,
 "nbformat_minor": 2
}
